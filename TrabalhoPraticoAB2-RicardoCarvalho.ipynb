{
 "cells": [
  {
   "cell_type": "markdown",
   "metadata": {},
   "source": [
    "<p align=\"center\">\n",
    "Universidade Federal de Alagoas</br>\n",
    "\n",
    "</p>\n",
    "\n",
    "#Trabalho Prático AB2\n",
    "\n",
    "**Disciplina**: Introdução à Computação\n",
    "\n",
    "**Semestre letivo**: 2016.1\n",
    "\n",
    "**Professor**: André Lage Freitas\n",
    "\n",
    "\n",
    "**Importante**. Leia atentamente essa seção pois só serão aceitos trabalhos que obedecerem as a especificações a seguir. \n",
    "\n",
    "\n",
    "\n",
    "## Entrega\n",
    "\n",
    "As respostas deverão ser entregues nos devidos campos desse arquivo, ou seja, em [Markdown](https://en.wikipedia.org/wiki/Markdown) e no formato [IJulia Notebook](https://github.com/JuliaLang/IJulia.jl).\n",
    "\n",
    "O programa deve ser implementado na linguagem de programação **Julia**. Seu trabalho será testado na [JuliaBox](https://juliabox.com), portanto teste seu arquivo IJulia na JulizBox antes de enviá-lo.\n",
    "\n",
    "\n",
    "### Forma \n",
    "\n",
    "O arquivo IJulia Notebook deverá ser entregue ao Professor **exclusivamente por e-mail** para o seguinte endereço: **prof.alage** @ **gmail com**\n",
    "\n",
    "\n",
    "Será registrada como data de recebimento do trabalho a data indicada pelo servidor de e-mail do Professor. \n",
    "\n",
    "A responsabilidade sobre a integridade do arquivo contendo trabalho é exclusivamente dos discentes. Serão ignorados os trabalhos cujos arquivos não conseguirem ser abertos ou se o e-mail não chegar à caixa de entrada de e-mail do Professor.\n",
    "\n",
    "### Prazos\n",
    "\n",
    "O prazo de entrega sem atraso é o dia **21/10/16**.\n",
    "\n",
    "Trabalhos entregues com atraso serão aceitos, no máximo, até o o dia **23/10/16**. Serão descontados 5% da nota obtida por dia de atraso.\n",
    "\n",
    "\n",
    "## Pontuação extra\n",
    "\n",
    "O(a) discente que realizar mais tarefas, além do que foi especificado neste trabalho, o professor atribuirá de 0,5 a 1,0 ponto extra a depender da relevância da contribuição no programa. O critério será decidido pelo professor. \n",
    "\n",
    "O(a) discente deve indicar qual foi a tarefa executada. Por exemplo, adição de funcionalidades, armazenamento de dados em arquivo, documentação de código, comentários em inglês sem erros ortográficos, etc.\n",
    "\n",
    "\n",
    "**Plágio. A nota zero será atribuída caso haja qualquer tipo de cópia parcial ou integral**. Leia a [cartilha sobre plágio](http://www.noticias.uff.br/arquivos/cartilha-sobre-plagio-academico.pdf).\n",
    "\n",
    "## Disclaimer\n",
    "\n",
    "Esse material foi elaborado pelo [Prof. André Lage Freitas](https://sites.google.com/a/ic.ufal.br/andrelage/) e está licenciado sob a licença _GNU General Public License v3.0_.\n",
    "\n",
    "\n",
    "## Especificação do trabalho prático\n",
    "\n",
    "De acordo com o [Estatuto da UFAL](http://www.ufal.edu.br/transparencia/institucional/estatuto-e-regimento/Estatuto_Regimento_Ufal.pdf) (Seção III, Da Avaliação), transcrito abaixo, responda as perguntas a seguir.\n",
    "\n",
    "\n",
    "    \"Art. 43. A Nota Final (NF) das Avaliações Bimestrais será a média aritmética, apurada até centésimos, das notas obtidas nas 02 (duas) Avaliações Bimestrais.\n",
    "\n",
    "        § 1o Será considerado aprovado, livre de prova final, o discente que alcançar Nota Final (NF) das Avaliações Bimestrais, igual ou superior a 7,00 (sete).\n",
    "        § 2o Será automaticamente reprovado o discente cuja Nota Final (NF) das Avaliações Bimestrais for inferior a 5,00 (cinco).\n",
    "        § 3o O discente que alcançar nota inferior a 7,00 (sete), em uma das duas Avaliações Bimestrais (AB), terá direito, no final do semestre letivo, a ser reavaliado naquela em que obteve a menor pontuação, prevalecendo, neste caso, a maior nota.\n",
    "\n",
    "    Art. 44. O discente que obtiver a Nota Final (NF) das Avaliações Bimestrais igual ou superior a 5,00 (cinco) e inferior a 7,00 (sete), terá direito a prestar a Prova Final (PF).\n",
    "        Parágrafo Único - A Prova Final (PF) versará sobre todo o conteúdo da disciplina ministrada e será realizada no término do semestre letivo, em época posterior às reavaliações, conforme o Calendário Acadêmico da UFAL.\n",
    "    \n",
    "    Art. 45. Será considerado aprovado com avaliação final, após a realização da Prova Final (PF), em cada disciplina, o discente que alcançar média final igual ou superior a 5,5 (cinco inteiros e cinco décimos).\n",
    "        Parágrafo Único – O cálculo para a obtenção da média final é a média ponderada da Nota Final (NF) das Avaliações Bimestrais, com peso 6 (seis) e da nota da Prova Final (PF), com peso 4 (quatro).\"\n",
    "\n",
    "\n",
    "### 1. Cálculo da NF antes da reavaliação (4,0 pontos)\n",
    "\n",
    "Faça a função `calculo_NF` em Julia, no campo abaixo, que indique se o(a) discente:\n",
    "\n",
    "* foi aprovado(a), livre de prova final;\n",
    "* terá direito de fazer prova de reavaliação e, em caso positivo, indicar qual Avaliação Bimestral (AB).\n",
    "\n",
    "A função `calculo_NF` receberá como parâmetro as notas bimestrais `ab1` e `ab2`."
   ]
  },
  {
   "cell_type": "code",
   "execution_count": 2,
   "metadata": {
    "collapsed": false
   },
   "outputs": [
    {
     "name": "stdout",
     "output_type": "stream",
     "text": [
      "O aluno terá direito de fazer reavaliação da AB2.\n"
     ]
    }
   ],
   "source": [
    "#\n",
    "# Função simples para cálculo da média das avaliações bimestrais.\n",
    "#\n",
    "# Por Ricardo Carvalho\n",
    "#\n",
    "\n",
    "function calculo_NF(ab1,ab2)\n",
    "    m=(ab1+ab2)/2\n",
    "    if m<5\n",
    "        println(\"O aluno foi reprovado. A média foi: \", m)\n",
    "    elseif m>=7\n",
    "        println(\"O aluno passou direto. A média foi: \", m)\n",
    "    else\n",
    "        if ab1<ab2\n",
    "            if ab1<7\n",
    "                println(\"O aluno terá direito de fazer reavaliação da AB1.\")\n",
    "            end\n",
    "        elseif ab2<ab1\n",
    "            if ab2<7\n",
    "                println(\"O aluno terá direito de fazer reavaliação da AB2.\")\n",
    "            end\n",
    "        end\n",
    "    end\n",
    "end\n",
    "\n",
    "calculo_NF(7.25,6.25)"
   ]
  },
  {
   "cell_type": "markdown",
   "metadata": {},
   "source": [
    "### 2. Cálculo da NF após a reavaliação (4,0 pontos)\n",
    "\n",
    "Faça a função `calculo_NF_apos_reavaliacao` em Julia, no campo abaixo, que indique se o(a) discente:\n",
    "\n",
    "* foi aprovado(a), livre de prova final;\n",
    "* automaticamente reprovado(a);\n",
    "* terá direito de fazer prova final.\n",
    "\n",
    "A função `calculo_NF_apos_reavaliacao` receberá como parâmetro as notas bimestrais `ab1` e `ab2` e a nota da reavaliação `reavaliacao`."
   ]
  },
  {
   "cell_type": "code",
   "execution_count": 8,
   "metadata": {
    "collapsed": false
   },
   "outputs": [
    {
     "name": "stdout",
     "output_type": "stream",
     "text": [
      "O aluno fez reavaliação da AB2 mas foi automaticamente reprovado. A média foi: 4.75\n"
     ]
    }
   ],
   "source": [
    "#\n",
    "# Função após resultado da reavaliação. Indicando a possibilidade de prova final.\n",
    "#\n",
    "# Por Ricardo Carvalho\n",
    "#\n",
    "\n",
    "function calculo_NF_apos_reavaliacao(ab1,ab2,reavaliacao)\n",
    "    if ab1<ab2\n",
    "        m=(reavaliacao+ab2)/2\n",
    "        if m<5\n",
    "            println(\"O aluno fez reavaliação da AB1 mas foi automaticamente reprovado. A média foi: \", m)\n",
    "        elseif m>=7\n",
    "            println(\"O aluno fez reavaliação da AB1 e foi aprovado. A média foi: \", m)\n",
    "        else\n",
    "            println(\"O aluno fez reavaliação da AB1 mas não atingiu pontuação suficiente.\")\n",
    "            println(\"Terá direito a fazer prova final. A média foi: \", m)\n",
    "        end\n",
    "    elseif ab2<ab1\n",
    "        m=(reavaliacao+ab1)/2\n",
    "        if m<5\n",
    "            println(\"O aluno fez reavaliação da AB2 mas foi automaticamente reprovado. A média foi: \", m)\n",
    "        elseif m>=7\n",
    "            println(\"O aluno fez reavaliação da AB2 e foi aprovado. A média foi: \", m)\n",
    "        else\n",
    "            println(\"O aluno fez reavaliação da AB2 mas não atingiu pontuação suficiente.\")\n",
    "            println(\"Terá direito a fazer prova final. A média foi: \", m)\n",
    "        end\n",
    "    end\n",
    "end\n",
    "\n",
    "calculo_NF_apos_reavaliacao(6.25,3.25,3.25)"
   ]
  },
  {
   "cell_type": "markdown",
   "metadata": {},
   "source": [
    "### 3. Cálculo da situação final (2,0 pontos)\n",
    "\n",
    "Faça a função `calculo_situacao_final` em Julia, no campo abaixo, que indique se o(a) discente:\n",
    "\n",
    "* foi aprovado(a);\n",
    "* foi reprovado(a).\n",
    "\n",
    "A função `calculo_situacao_final` receberá como parâmetro a nota final `nf` e a nota da prova final `pf`."
   ]
  },
  {
   "cell_type": "code",
   "execution_count": 1,
   "metadata": {
    "collapsed": false
   },
   "outputs": [
    {
     "name": "stdout",
     "output_type": "stream",
     "text": [
      "O aluno prestou prova final mas foi reprovado.\n",
      "O resultado final foi: 5.2\n"
     ]
    }
   ],
   "source": [
    "#\n",
    "# Função para cálculo da situação final após a prova final.\n",
    "#\n",
    "# Por Ricardo Carvalho\n",
    "#\n",
    "\n",
    "function calculo_situacao_final(nf,pf)\n",
    "    sf=((nf*6)+(pf*4))/10\n",
    "    if sf>=5.5\n",
    "        println(\"O aluno prestou prova final e foi aprovado.\")\n",
    "        println(\"O resultado final foi: \", sf)\n",
    "    else\n",
    "        println(\"O aluno prestou prova final mas foi reprovado.\")\n",
    "        println(\"O resultado final foi: \", sf)\n",
    "    end\n",
    "end\n",
    "\n",
    "calculo_situacao_final(4,7)"
   ]
  }
 ],
 "metadata": {
  "kernelspec": {
   "display_name": "Julia 0.5.0",
   "language": "julia",
   "name": "julia-0.5"
  },
  "language_info": {
   "file_extension": ".jl",
   "mimetype": "application/julia",
   "name": "julia",
   "version": "0.5.0"
  }
 },
 "nbformat": 4,
 "nbformat_minor": 0
}
